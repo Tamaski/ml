{
 "cells": [
  {
   "cell_type": "code",
   "execution_count": 173,
   "id": "62454f58",
   "metadata": {},
   "outputs": [
    {
     "name": "stdout",
     "output_type": "stream",
     "text": [
      "hello world\n"
     ]
    }
   ],
   "source": [
    "print(\"hello world\")"
   ]
  },
  {
   "cell_type": "code",
   "execution_count": 174,
   "id": "4f46e456",
   "metadata": {},
   "outputs": [],
   "source": [
    "import pandas as pd\n",
    "import numpy as np\n"
   ]
  },
  {
   "cell_type": "code",
   "execution_count": 175,
   "id": "4467f3f8",
   "metadata": {},
   "outputs": [
    {
     "name": "stdout",
     "output_type": "stream",
     "text": [
      "   Id  MSSubClass MSZoning  LotFrontage  LotArea Street Alley LotShape  \\\n",
      "0   1          60       RL         65.0     8450   Pave   NaN      Reg   \n",
      "1   2          20       RL         80.0     9600   Pave   NaN      Reg   \n",
      "2   3          60       RL         68.0    11250   Pave   NaN      IR1   \n",
      "3   4          70       RL         60.0     9550   Pave   NaN      IR1   \n",
      "4   5          60       RL         84.0    14260   Pave   NaN      IR1   \n",
      "\n",
      "  LandContour Utilities  ... PoolArea PoolQC Fence MiscFeature MiscVal MoSold  \\\n",
      "0         Lvl    AllPub  ...        0    NaN   NaN         NaN       0      2   \n",
      "1         Lvl    AllPub  ...        0    NaN   NaN         NaN       0      5   \n",
      "2         Lvl    AllPub  ...        0    NaN   NaN         NaN       0      9   \n",
      "3         Lvl    AllPub  ...        0    NaN   NaN         NaN       0      2   \n",
      "4         Lvl    AllPub  ...        0    NaN   NaN         NaN       0     12   \n",
      "\n",
      "  YrSold  SaleType  SaleCondition  SalePrice  \n",
      "0   2008        WD         Normal     208500  \n",
      "1   2007        WD         Normal     181500  \n",
      "2   2008        WD         Normal     223500  \n",
      "3   2006        WD        Abnorml     140000  \n",
      "4   2008        WD         Normal     250000  \n",
      "\n",
      "[5 rows x 81 columns]\n"
     ]
    }
   ],
   "source": [
    "\n",
    "\n",
    "# Read CSV file\n",
    "df = pd.read_csv(\"train.csv\")\n",
    "\n",
    "# See first few rows\n",
    "print(df.head())\n"
   ]
  },
  {
   "cell_type": "code",
   "execution_count": 176,
   "id": "430d3f2d",
   "metadata": {},
   "outputs": [],
   "source": [
    "data = df.select_dtypes(include=['number']).to_numpy()\n"
   ]
  },
  {
   "cell_type": "code",
   "execution_count": 191,
   "id": "5995bfa9",
   "metadata": {},
   "outputs": [],
   "source": [
    "np.shape(data)\n",
    "y = data[:,37]\n",
    "print(y)"
   ]
  },
  {
   "cell_type": "code",
   "execution_count": 181,
   "id": "e59fc8e4",
   "metadata": {},
   "outputs": [
    {
     "data": {
      "text/plain": [
       "(1460,)"
      ]
     },
     "execution_count": 181,
     "metadata": {},
     "output_type": "execute_result"
    }
   ],
   "source": [
    "y.shape\n"
   ]
  },
  {
   "cell_type": "code",
   "execution_count": 182,
   "id": "7c475585",
   "metadata": {},
   "outputs": [
    {
     "data": {
      "text/plain": [
       "(1460, 37)"
      ]
     },
     "execution_count": 182,
     "metadata": {},
     "output_type": "execute_result"
    }
   ],
   "source": [
    "x = data[:,:-1]\n",
    "x.shape"
   ]
  },
  {
   "cell_type": "code",
   "execution_count": 196,
   "id": "2b37715d",
   "metadata": {},
   "outputs": [
    {
     "name": "stdout",
     "output_type": "stream",
     "text": [
      "Any NaN left in x? False\n",
      "Any NaN left in y? False\n"
     ]
    }
   ],
   "source": [
    "from sklearn.impute import SimpleImputer\n",
    "\n",
    "\n",
    "\n",
    "# Impute missing values with column means\n",
    "imputer = SimpleImputer(strategy=\"mean\")\n",
    "x = imputer.fit_transform(data)\n",
    "\n",
    "# Separate features and target\n",
    "y = x[:, -1]   # assuming last column is SalePrice\n",
    "x = x[:, :-1]\n",
    "\n",
    "print(\"Any NaN left in x?\", np.isnan(x).any())\n",
    "print(\"Any NaN left in y?\", np.isnan(y).any())\n"
   ]
  },
  {
   "cell_type": "code",
   "execution_count": 205,
   "id": "e377dd9f",
   "metadata": {},
   "outputs": [
    {
     "name": "stdout",
     "output_type": "stream",
     "text": [
      "37\n"
     ]
    }
   ],
   "source": [
    "n = x.shape[1]\n",
    "init_w = np.full((n,),0.8)\n",
    "init_b = 0.8"
   ]
  },
  {
   "cell_type": "code",
   "execution_count": 204,
   "id": "e5995297",
   "metadata": {},
   "outputs": [
    {
     "name": "stdout",
     "output_type": "stream",
     "text": [
      "(37,)\n",
      "[[1.000e+00 6.000e+01 6.500e+01 ... 0.000e+00 2.000e+00 2.008e+03]\n",
      " [2.000e+00 2.000e+01 8.000e+01 ... 0.000e+00 5.000e+00 2.007e+03]\n",
      " [3.000e+00 6.000e+01 6.800e+01 ... 0.000e+00 9.000e+00 2.008e+03]\n",
      " ...\n",
      " [1.458e+03 7.000e+01 6.600e+01 ... 2.500e+03 5.000e+00 2.010e+03]\n",
      " [1.459e+03 2.000e+01 6.800e+01 ... 0.000e+00 4.000e+00 2.010e+03]\n",
      " [1.460e+03 2.000e+01 7.500e+01 ... 0.000e+00 6.000e+00 2.008e+03]]\n",
      "False\n",
      "False\n"
     ]
    }
   ],
   "source": [
    "print(init_w.shape)\n",
    "print(x)\n",
    "print(np.isnan(x).any())   # True if NaNs in features\n",
    "print(np.isnan(y).any())   # True if NaNs in target\n",
    "\n"
   ]
  },
  {
   "cell_type": "code",
   "execution_count": 206,
   "id": "7f1dce1e",
   "metadata": {},
   "outputs": [
    {
     "name": "stdout",
     "output_type": "stream",
     "text": [
      "1460\n"
     ]
    }
   ],
   "source": [
    "\n",
    "m = len(x)\n",
    "print(m)\n",
    "y_pred = np.zeros(m)\n",
    "def predict(X, w, b):\n",
    "    return np.dot(X, w) + b\n",
    "            \n"
   ]
  },
  {
   "cell_type": "code",
   "execution_count": 208,
   "id": "2a042170",
   "metadata": {},
   "outputs": [],
   "source": [
    "def calc_cost(actual,prediction):\n",
    "    c=0\n",
    "    cost = 0\n",
    "    for i in range(m):\n",
    "        c+= (actual[i] - prediction[i])**2\n",
    "    cost = (1/(2*m))*c\n",
    "    return cost"
   ]
  },
  {
   "cell_type": "code",
   "execution_count": 209,
   "id": "a68f787f",
   "metadata": {
    "scrolled": true
   },
   "outputs": [
    {
     "name": "stdout",
     "output_type": "stream",
     "text": [
      "[208500. 181500. 223500. ... 266500. 142125. 147500.]\n",
      "[18050.4 18783.2 20524.8 ... 22696.8 19381.6 20424.8]\n"
     ]
    }
   ],
   "source": [
    "y_pred = predict(x, init_w, init_b)\n",
    "\n",
    "print(y)\n",
    "print(y_pred)\n",
    "\n",
    "J = calc_cost(y, y_pred)"
   ]
  },
  {
   "cell_type": "markdown",
   "id": "90ee3269",
   "metadata": {},
   "source": [
    "Formula for Gradient:\n",
    "\n",
    "djdw = 1/m sum(((wx_i + b) - yi)xi)\n",
    "djdb = 1/m sum(((wx_i + b) - yi ))"
   ]
  },
  {
   "cell_type": "code",
   "execution_count": null,
   "id": "9eb7d52a",
   "metadata": {},
   "outputs": [],
   "source": [
    "def gradient(w,b):\n",
    "    \n",
    "    for i in range(m):\n",
    "        dw = "
   ]
  },
  {
   "cell_type": "code",
   "execution_count": null,
   "id": "cdcd0f1c",
   "metadata": {},
   "outputs": [],
   "source": []
  }
 ],
 "metadata": {
  "kernelspec": {
   "display_name": "Python 3 (ipykernel)",
   "language": "python",
   "name": "python3"
  },
  "language_info": {
   "codemirror_mode": {
    "name": "ipython",
    "version": 3
   },
   "file_extension": ".py",
   "mimetype": "text/x-python",
   "name": "python",
   "nbconvert_exporter": "python",
   "pygments_lexer": "ipython3",
   "version": "3.11.3"
  }
 },
 "nbformat": 4,
 "nbformat_minor": 5
}
